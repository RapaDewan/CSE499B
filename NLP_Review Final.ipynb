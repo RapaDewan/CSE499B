{
 "cells": [
  {
   "cell_type": "markdown",
   "metadata": {},
   "source": [
    "# Resume Scoring\n"
   ]
  },
  {
   "cell_type": "markdown",
   "metadata": {},
   "source": [
    "**Workflow**\n",
    "1. Creating corpus using Sketch Engine\n",
    "2. Creating word embedding using Genism , Word2Vec\n",
    "3. Preprocessing \n",
    "4. Removing common words that are not required\n",
    "5. Creating phrases of words that frequently occur togther (bigrams)\n",
    "6. Building word2vec model\n",
    "7. Extracting resumes (using PyPDF) and converting to string\n",
    "8. Building candidate profile using model.most_similar(skills), where skills is an array of required skills\n",
    "9. Creating a matcher using Spacy to match the wods in resume to most_similar(skills)\n",
    "12. Printing and visualizing the candidate profile"
   ]
  },
  {
   "cell_type": "markdown",
   "metadata": {},
   "source": [
    "### Creating Corpus using sketch Engine"
   ]
  },
  {
   "cell_type": "markdown",
   "metadata": {},
   "source": [
    "We used SketchEngine to create a corpus, wikipedia pages were given as input \n"
   ]
  },
  {
   "cell_type": "code",
   "execution_count": 1,
   "metadata": {},
   "outputs": [],
   "source": [
    "from PIL import Image\n"
   ]
  },
  {
   "cell_type": "markdown",
   "metadata": {},
   "source": [
    "### Creating word embedding "
   ]
  },
  {
   "cell_type": "code",
   "execution_count": 2,
   "metadata": {},
   "outputs": [],
   "source": [
    "#pip install gensim\n"
   ]
  },
  {
   "cell_type": "code",
   "execution_count": 3,
   "metadata": {},
   "outputs": [],
   "source": [
    "from gensim.models import Word2Vec\n",
    "import string\n",
    "import re\n",
    "from nltk.corpus import stopwords\n",
    "with open(r'F:\\CSE499A\\github codes\\resume screening using NLP\\skills.txt',encoding=\"utf8\") as f:\n",
    "    content = f.readlines()\n",
    "# you may also want to remove whitespace characters like `\\n` at the end of each line\n",
    "content = [x.strip() for x in content]"
   ]
  },
  {
   "cell_type": "code",
   "execution_count": 4,
   "metadata": {},
   "outputs": [
    {
     "data": {
      "text/plain": [
       "'Data science is a \"concept to unify statistics, data analysis, machine learning and their related methods\" in order to \"understand and analyze actual phenomena\" with data. It employs techniques and theories drawn from many fields within the context of mathematics, statistics, information science, and computer science. Turing award winner Jim Gray imagined data science as a \"fourth paradigm\" of science (empirical, theoretical, computational and now data-driven) and asserted that \"everything about science is changing because of the impact of information technology\" and the data deluge.'"
      ]
     },
     "execution_count": 4,
     "metadata": {},
     "output_type": "execute_result"
    }
   ],
   "source": [
    "content[1]"
   ]
  },
  {
   "cell_type": "code",
   "execution_count": 5,
   "metadata": {},
   "outputs": [],
   "source": [
    "from nltk.tokenize import word_tokenize\n",
    "import gensim\n",
    "from gensim.models.phrases import Phraser, Phrases"
   ]
  },
  {
   "cell_type": "markdown",
   "metadata": {},
   "source": [
    "**Preprocessing**"
   ]
  },
  {
   "cell_type": "code",
   "execution_count": 6,
   "metadata": {},
   "outputs": [
    {
     "name": "stderr",
     "output_type": "stream",
     "text": [
      "[nltk_data] Downloading package punkt to\n",
      "[nltk_data]     C:\\Users\\USER\\AppData\\Roaming\\nltk_data...\n",
      "[nltk_data]   Package punkt is already up-to-date!\n"
     ]
    },
    {
     "data": {
      "text/plain": [
       "True"
      ]
     },
     "execution_count": 6,
     "metadata": {},
     "output_type": "execute_result"
    }
   ],
   "source": [
    "import nltk\n",
    "nltk.download('punkt')\n"
   ]
  },
  {
   "cell_type": "code",
   "execution_count": 7,
   "metadata": {},
   "outputs": [
    {
     "name": "stderr",
     "output_type": "stream",
     "text": [
      "[nltk_data] Downloading package stopwords to\n",
      "[nltk_data]     C:\\Users\\USER\\AppData\\Roaming\\nltk_data...\n",
      "[nltk_data]   Package stopwords is already up-to-date!\n"
     ]
    },
    {
     "data": {
      "text/plain": [
       "True"
      ]
     },
     "execution_count": 7,
     "metadata": {},
     "output_type": "execute_result"
    }
   ],
   "source": [
    "nltk.download('stopwords')\n"
   ]
  },
  {
   "cell_type": "code",
   "execution_count": 8,
   "metadata": {},
   "outputs": [],
   "source": [
    "x=[]\n",
    "for line in content:\n",
    "    tokens=word_tokenize(line)\n",
    "    tok=[w.lower() for w in tokens]\n",
    "    table=str.maketrans('','',string.punctuation)\n",
    "    strpp=[w.translate(table) for w in tok]\n",
    "    words=[word for word in strpp if word.isalpha()]\n",
    "    stop_words=set(stopwords.words('english'))\n",
    "    words=[w for w in words if not w in stop_words]\n",
    "    x.append(words)"
   ]
  },
  {
   "cell_type": "code",
   "execution_count": 9,
   "metadata": {},
   "outputs": [],
   "source": [
    "texts=x\n",
    "#texts"
   ]
  },
  {
   "cell_type": "code",
   "execution_count": 10,
   "metadata": {},
   "outputs": [
    {
     "name": "stdout",
     "output_type": "stream",
     "text": [
      "['william', 'cleveland', 'introduced', 'data', 'science', 'independent', 'discipline', 'extending', 'field', 'statistics', 'incorporate', 'advances', 'computing', 'data', 'article', 'data', 'science', 'action', 'plan', 'expanding', 'technical', 'areas', 'field', 'statistics', 'published', 'volume', 'april', 'edition', 'international', 'statistical', 'review', 'revue', 'internationale', 'de', 'statistique', 'report', 'cleveland', 'establishes', 'six', 'technical', 'areas', 'believed', 'encompass', 'field', 'data', 'science', 'multidisciplinary', 'investigations', 'models', 'methods', 'data', 'computing', 'data', 'pedagogy', 'tool', 'evaluation', 'theory']\n"
     ]
    }
   ],
   "source": [
    "print(texts[6])"
   ]
  },
  {
   "cell_type": "markdown",
   "metadata": {},
   "source": [
    "**Removing commonly occuring words that are not useful**"
   ]
  },
  {
   "cell_type": "code",
   "execution_count": 11,
   "metadata": {},
   "outputs": [],
   "source": [
    "# #Removing commonly occuring words that are not useful\n",
    "\n",
    "# with open('common.txt') as f:\n",
    "#     content2 = f.read()\n",
    "# ntexts=[]\n",
    "# l=len(texts)\n",
    "# for j in range(l):\n",
    "#     s=texts[j]\n",
    "#     res = [i for i in s if i not in content2]\n",
    "#     ntexts.append(res)\n",
    "# print(texts[6])\n",
    "\n",
    "    "
   ]
  },
  {
   "cell_type": "code",
   "execution_count": 12,
   "metadata": {},
   "outputs": [
    {
     "name": "stderr",
     "output_type": "stream",
     "text": [
      "[nltk_data] Downloading package stopwords to\n",
      "[nltk_data]     C:\\Users\\USER\\AppData\\Roaming\\nltk_data...\n",
      "[nltk_data]   Package stopwords is already up-to-date!\n"
     ]
    },
    {
     "name": "stdout",
     "output_type": "stream",
     "text": [
      "['william', 'cleveland', 'introduced', 'data', 'science', 'independent', 'discipline', 'extending', 'field', 'statistics', 'incorporate', 'advances', 'computing', 'data', 'article', 'data', 'science', 'action', 'plan', 'expanding', 'technical', 'areas', 'field', 'statistics', 'published', 'volume', 'april', 'edition', 'international', 'statistical', 'review', 'revue', 'internationale', 'de', 'statistique', 'report', 'cleveland', 'establishes', 'six', 'technical', 'areas', 'believed', 'encompass', 'field', 'data', 'science', 'multidisciplinary', 'investigations', 'models', 'methods', 'data', 'computing', 'data', 'pedagogy', 'tool', 'evaluation', 'theory']\n"
     ]
    }
   ],
   "source": [
    "from nltk.corpus import stopwords\n",
    "nltk.download('stopwords')  # Ensure stopwords are downloaded\n",
    "\n",
    "# List of common words to remove\n",
    "common_words = set(stopwords.words('english'))\n",
    "\n",
    "# Removing common words from texts\n",
    "ntexts = []\n",
    "for sentence in texts:\n",
    "    filtered_sentence = [word for word in sentence if word not in common_words]\n",
    "    ntexts.append(filtered_sentence)\n",
    "\n",
    "print(ntexts[6])\n"
   ]
  },
  {
   "cell_type": "code",
   "execution_count": 13,
   "metadata": {},
   "outputs": [
    {
     "name": "stdout",
     "output_type": "stream",
     "text": [
      "['william', 'cleveland', 'introduced', 'data', 'science', 'independent', 'discipline', 'extending', 'field', 'statistics', 'incorporate', 'advances', 'computing', 'data', 'article', 'data', 'science', 'action', 'plan', 'expanding', 'technical', 'areas', 'field', 'statistics', 'published', 'volume', 'april', 'edition', 'international', 'statistical', 'review', 'revue', 'internationale', 'de', 'statistique', 'report', 'cleveland', 'establishes', 'six', 'technical', 'areas', 'believed', 'encompass', 'field', 'data', 'science', 'multidisciplinary', 'investigations', 'models', 'methods', 'data', 'computing', 'data', 'pedagogy', 'tool', 'evaluation', 'theory']\n"
     ]
    }
   ],
   "source": [
    "print(ntexts[6])"
   ]
  },
  {
   "cell_type": "code",
   "execution_count": 14,
   "metadata": {},
   "outputs": [
    {
     "name": "stdout",
     "output_type": "stream",
     "text": [
      "316\n"
     ]
    }
   ],
   "source": [
    "print(len(ntexts))\n",
    "texts=ntexts"
   ]
  },
  {
   "cell_type": "code",
   "execution_count": 15,
   "metadata": {},
   "outputs": [],
   "source": [
    "content=texts"
   ]
  },
  {
   "cell_type": "markdown",
   "metadata": {},
   "source": [
    "**Creating bigrams**"
   ]
  },
  {
   "cell_type": "code",
   "execution_count": 16,
   "metadata": {},
   "outputs": [],
   "source": [
    "# common_terms = [\"of\", \"with\", \"without\", \"and\", \"or\", \"the\", \"a\"]\n",
    "# x=ntexts\n",
    "# # Create the relevant phrases from the list of sentences:\n",
    "# phrases = Phrases(x, common_terms=common_terms)\n",
    "# # The Phraser object is used from now on to transform sentences\n",
    "# bigram = Phraser(phrases)\n",
    "# # Applying the Phraser to transform our sentences\n",
    "# all_sentences = list(bigram[x])\n",
    "# model=gensim.models.Word2Vec(all_sentences,size=5000,min_count=2,workers=4,window=4)\n",
    "# model.save(\"final.model\")\n",
    "# wrds=list(model.wv.vocab)\n",
    "# print(len(wrds))"
   ]
  },
  {
   "cell_type": "code",
   "execution_count": 17,
   "metadata": {},
   "outputs": [
    {
     "name": "stdout",
     "output_type": "stream",
     "text": [
      "1331\n"
     ]
    }
   ],
   "source": [
    "from gensim.models.phrases import Phrases, Phraser\n",
    "import gensim\n",
    "\n",
    "x = ntexts  # Assuming `ntexts` contains tokenized sentences\n",
    "\n",
    "# Create phrases (bigrams) from the list of sentences\n",
    "phrases = Phrases(x, min_count=2, threshold=10)  # Adjust threshold if needed\n",
    "bigram = Phraser(phrases)  # Use Phraser for efficiency\n",
    "\n",
    "# Transform sentences to include bigrams where applicable\n",
    "all_sentences = list(bigram[x])\n",
    "\n",
    "# Train Word2Vec model on the transformed sentences\n",
    "model = gensim.models.Word2Vec(all_sentences, vector_size=5000, min_count=2, workers=4, window=4)\n",
    "model.save(\"final.model\")\n",
    "\n",
    "# Print the vocabulary size\n",
    "wrds = list(model.wv.index_to_key)  # `index_to_key` replaces `vocab` in recent Gensim versions\n",
    "print(len(wrds))\n"
   ]
  },
  {
   "cell_type": "markdown",
   "metadata": {},
   "source": [
    "**Testing**"
   ]
  },
  {
   "cell_type": "code",
   "execution_count": 18,
   "metadata": {},
   "outputs": [],
   "source": [
    "z=model.wv.most_similar(\"machine_learning\")"
   ]
  },
  {
   "cell_type": "code",
   "execution_count": 19,
   "metadata": {},
   "outputs": [
    {
     "name": "stdout",
     "output_type": "stream",
     "text": [
      "[('also', 0.12032302469015121), ('deep_learning', 0.11623634397983551), ('one', 0.09946063905954361), ('analysis', 0.09736409038305283), ('science', 0.09616729617118835), ('process', 0.09580166637897491), ('software', 0.09512998163700104), ('language', 0.09466560930013657), ('system', 0.09413205832242966), ('systems', 0.09225250780582428)]\n"
     ]
    }
   ],
   "source": [
    "print(z)"
   ]
  },
  {
   "cell_type": "markdown",
   "metadata": {},
   "source": [
    "### Resume Parsing"
   ]
  },
  {
   "cell_type": "code",
   "execution_count": 20,
   "metadata": {},
   "outputs": [],
   "source": [
    "# import PyPDF2\n",
    "# import os\n",
    "# import collections\n",
    "# from os import listdir\n",
    "# from os.path import isfile, join\n",
    "# from io import StringIO\n",
    "# import pandas as pd\n",
    "# from collections import Counter\n",
    "# import en_core_web_sm\n",
    "# nlp = en_core_web_sm.load()\n",
    "# from spacy.matcher import PhraseMatcher"
   ]
  },
  {
   "cell_type": "code",
   "execution_count": 21,
   "metadata": {},
   "outputs": [],
   "source": [
    "# import PyPDF2\n",
    "# import os\n",
    "# import collections\n",
    "# from os import listdir\n",
    "# from os.path import isfile, join\n",
    "# from io import StringIO\n",
    "# import pandas as pd\n",
    "# from collections import Counter\n",
    "# import en_core_web_sm\n",
    "# nlp = en_core_web_sm.load()\n",
    "# from spacy.matcher import PhraseMatcher\n",
    "# from gensim.models import Word2Vec\n",
    "\n",
    "# def pdfextract(file):\n",
    "#     pdf_file = open(file, 'rb')\n",
    "#     read_pdf = PyPDF2.PdfReader(pdf_file)\n",
    "#     number_of_pages = len(read_pdf.pages)\n",
    "#     c = collections.Counter(range(number_of_pages))\n",
    "#     page_content = \"\"\n",
    "    \n",
    "#     for i in c:\n",
    "#         page = read_pdf.pages[i]\n",
    "#         page_content += page.extract_text()\n",
    "    \n",
    "#     pdf_file.close()\n",
    "#     return page_content.encode('utf-8')\n",
    "\n",
    "# def create_profile(file):\n",
    "#     model = Word2Vec.load(\"final.model\")\n",
    "#     text = str(pdfextract(file))\n",
    "#     text = text.replace(\"\\\\n\", \"\").lower()\n",
    "\n",
    "#     stats = [nlp(text[0]) for text in model.wv.most_similar(\"statistics\")]\n",
    "#     NLP = [nlp(text[0]) for text in model.wv.most_similar(\"language\")]\n",
    "#     ML = [nlp(text[0]) for text in model.wv.most_similar(\"machine_learning\")]\n",
    "#     DL = [nlp(text[0]) for text in model.wv.most_similar(\"deep\")]\n",
    "#     python = [nlp(text[0]) for text in model.wv.most_similar(\"python\")]\n",
    "#     Data_Engineering = [nlp(text[0]) for text in model.wv.most_similar(\"data\")]\n",
    "\n",
    "#     matcher = PhraseMatcher(nlp.vocab)\n",
    "#     matcher.add('Stats', None, *stats)\n",
    "#     matcher.add('NLP', None, *NLP)\n",
    "#     matcher.add('ML', None, *ML)\n",
    "#     matcher.add('DL', None, *DL)\n",
    "#     matcher.add('Python', None, *python)\n",
    "#     matcher.add('DE', None, *Data_Engineering)\n",
    "\n",
    "#     doc = nlp(text)\n",
    "#     d = []\n",
    "#     matches = matcher(doc)\n",
    "\n",
    "#     for match_id, start, end in matches:\n",
    "#         rule_id = nlp.vocab.strings[match_id]\n",
    "#         span = doc[start: end]\n",
    "#         d.append((rule_id, span.text))\n",
    "\n",
    "#     # Convert matches to a string\n",
    "#     keywords = \"\\n\".join(f'{i[0]} {i[1]} ({j})' for i, j in Counter(d).items())\n",
    "#     df = pd.read_csv(StringIO(keywords), names=['Keywords_List'])\n",
    "#     df = df[df['Keywords_List'].apply(lambda x: isinstance(x, str) and x.strip() != '')]\n",
    "\n",
    "#     try:\n",
    "#         # Split `Keywords_List` into 'Subject', 'Keyword', and 'Count'\n",
    "#         df[['Subject', 'Keyword']] = df['Keywords_List'].str.split(' ', 1, expand=True)\n",
    "#         df[['Keyword', 'Count']] = df['Keyword'].str.split('(', 1, expand=True)\n",
    "#         df['Count'] = df['Count'].str.rstrip(\")\")\n",
    "#         df = df[['Subject', 'Keyword', 'Count']]\n",
    "#     except Exception as e:\n",
    "#         print(\"Error during splitting operation:\", e)\n",
    "#         return None\n",
    "\n",
    "#     return df\n"
   ]
  },
  {
   "cell_type": "code",
   "execution_count": 22,
   "metadata": {},
   "outputs": [],
   "source": [
    "import re\n",
    "\n",
    "def create_profile(file):\n",
    "    model = Word2Vec.load(\"final.model\")\n",
    "    text = str(pdfextract(file))\n",
    "    text = text.replace(\"\\\\n\", \"\").lower()\n",
    "\n",
    "    stats = [nlp(text[0]) for text in model.wv.most_similar(\"statistics\")]\n",
    "    NLP = [nlp(text[0]) for text in model.wv.most_similar(\"language\")]\n",
    "    ML = [nlp(text[0]) for text in model.wv.most_similar(\"machine_learning\")]\n",
    "    DL = [nlp(text[0]) for text in model.wv.most_similar(\"deep\")]\n",
    "    python = [nlp(text[0]) for text in model.wv.most_similar(\"python\")]\n",
    "    Data_Engineering = [nlp(text[0]) for text in model.wv.most_similar(\"data\")]\n",
    "\n",
    "    matcher = PhraseMatcher(nlp.vocab)\n",
    "    matcher.add('Stats', None, *stats)\n",
    "    matcher.add('NLP', None, *NLP)\n",
    "    matcher.add('ML', None, *ML)\n",
    "    matcher.add('DL', None, *DL)\n",
    "    matcher.add('Python', None, *python)\n",
    "    matcher.add('DE', None, *Data_Engineering)\n",
    "\n",
    "    doc = nlp(text)\n",
    "    d = []\n",
    "    matches = matcher(doc)\n",
    "\n",
    "    for match_id, start, end in matches:\n",
    "        rule_id = nlp.vocab.strings[match_id]\n",
    "        span = doc[start: end]\n",
    "        d.append((rule_id, span.text))\n",
    "\n",
    "    # Compile regex pattern to extract Subject, Keyword, and Count\n",
    "    pattern = re.compile(r\"(\\w+)\\s+(\\w+)\\s+\\((\\d+)\\)\")\n",
    "    data = []\n",
    "\n",
    "    # Apply regex to each keyword line and extract components\n",
    "    for line in Counter(d).items():\n",
    "        match = pattern.match(f\"{line[0][0]} {line[0][1]} ({line[1]})\")\n",
    "        if match:\n",
    "            subject, keyword, count = match.groups()\n",
    "            data.append([subject, keyword, count])\n",
    "\n",
    "    # Convert the extracted data to a DataFrame\n",
    "    df = pd.DataFrame(data, columns=['Subject', 'Keyword', 'Count'])\n",
    "\n",
    "    return df\n"
   ]
  },
  {
   "cell_type": "markdown",
   "metadata": {},
   "source": [
    "**Reading Resumes from folder**"
   ]
  },
  {
   "cell_type": "code",
   "execution_count": 24,
   "metadata": {},
   "outputs": [],
   "source": [
    "# mypath=r'F:\\CSE499A\\github codes\\resume screening using NLP\\resumes'\n",
    "# #Path for the files\n",
    "# onlyfiles = [os.path.join(mypath, f) for f in os.listdir(mypath) if os.path.isfile(os.path.join(mypath, f))]\n",
    "import os\n",
    "\n",
    "mypath = r'F:\\CSE499A\\github codes\\resume screening using NLP\\resumes'\n",
    "onlyfiles = [os.path.join(mypath, f) for f in os.listdir(mypath) if os.path.isfile(os.path.join(mypath, f))]\n"
   ]
  },
  {
   "cell_type": "markdown",
   "metadata": {},
   "source": [
    "**Function to words from resume**"
   ]
  },
  {
   "cell_type": "code",
   "execution_count": 25,
   "metadata": {},
   "outputs": [],
   "source": [
    "import PyPDF2\n",
    "import collections\n",
    "\n",
    "def pdfextract(file):\n",
    "    pdf_file = open(file, 'rb')\n",
    "    read_pdf = PyPDF2.PdfReader(pdf_file)\n",
    "    number_of_pages = len(read_pdf.pages)  # Get the total number of pages\n",
    "    c = collections.Counter(range(number_of_pages))\n",
    "\n",
    "    # Initialize an empty string to store all page content\n",
    "    page_content = \"\"\n",
    "    \n",
    "    # Iterate over each page and extract text\n",
    "    for i in c:\n",
    "        page = read_pdf.pages[i]  # Access the page directly\n",
    "        page_content += page.extract_text()  # Use extract_text() instead of extractText()\n",
    "    \n",
    "    pdf_file.close()\n",
    "    return page_content.encode('utf-8')\n"
   ]
  },
  {
   "cell_type": "code",
   "execution_count": 26,
   "metadata": {},
   "outputs": [],
   "source": [
    "sim_words=[k[0] for k in model.wv.most_similar(\"machine_learning\")]"
   ]
  },
  {
   "cell_type": "code",
   "execution_count": 27,
   "metadata": {},
   "outputs": [],
   "source": [
    "def create_bigram(words):\n",
    "    common_terms = [\"of\", \"with\", \"without\", \"and\", \"or\", \"the\", \"a\"]\n",
    "    x=words.split()\n",
    "# Create the relevant phrases from the list of sentences:\n",
    "    phrases = Phrases(x, common_terms=common_terms)\n",
    "# The Phraser object is used from now on to transform sentences\n",
    "    bigram = Phraser(phrases)\n",
    "# Applying the Phraser to transform our sentences is simply\n",
    "    all_sentences = list(bigram[x])\n",
    "    \n",
    "    "
   ]
  },
  {
   "cell_type": "markdown",
   "metadata": {},
   "source": [
    "**Function to build candidate profile**"
   ]
  },
  {
   "cell_type": "code",
   "execution_count": 28,
   "metadata": {},
   "outputs": [],
   "source": [
    "# def create_profile(file):\n",
    "#     model=Word2Vec.load(\"final.model\")\n",
    "#     text = str(pdfextract(file))\n",
    "#     text = text.replace(\"\\\\n\", \"\")\n",
    "#     text = text.lower()\n",
    "#     #print(text)\n",
    "#     #text=create_bigram(text)\n",
    "#     #print(text)\n",
    "#     #below is the csv where we have all the keywords, you can customize your own\n",
    "#     #keyword_dictionary = pd.read_csv(r'C:\\Users\\dell\\Desktop\\New folder\\ML_CS\\NLP\\technical_skills.csv')\n",
    "#     stats = [nlp(text[0]) for text in model.wv.most_similar(\"statistics\")]\n",
    "#     NLP = [nlp(text[0]) for text in model.wv.most_similar(\"language\")]\n",
    "#     ML = [nlp(text[0]) for text in model.wv.most_similar(\"machine_learning\")]\n",
    "#     DL = [nlp(text[0]) for text in model.wv.most_similar(\"deep\")]\n",
    "#     #R = [nlp(text) for text in keyword_dictionary['R Language'].dropna(axis = 0)]\n",
    "#     python = [nlp(text[0]) for text in model.wv.most_similar(\"python\")]\n",
    "#     Data_Engineering = [nlp(text[0]) for text in model.wv.most_similar(\"data\")]\n",
    "#     print(\"*******************************************\")\n",
    "#     #print(stats_words,NLP_words)\n",
    "#     matcher = PhraseMatcher(nlp.vocab)\n",
    "#     matcher.add('Stats', None, *stats)\n",
    "#     matcher.add('NLP', None, *NLP)\n",
    "#     matcher.add('ML', None, *ML)\n",
    "#     matcher.add('DL', None, *DL)\n",
    "#     matcher.add('Python', None, *python)\n",
    "#     matcher.add('DE', None, *Data_Engineering)\n",
    "#     doc = nlp(text)\n",
    "    \n",
    "#     d = []  \n",
    "#     matches = matcher(doc)\n",
    "#     for match_id, start, end in matches:\n",
    "#         rule_id = nlp.vocab.strings[match_id]  # get the unicode I\n",
    "#         span = doc[start : end]               # get the matched slice of the doc\n",
    "#         d.append((rule_id, span.text))      \n",
    "#     keywords = \"\\n\".join(f'{i[0]} {i[1]} ({j})' for i,j in Counter(d).items())\n",
    "#     print(\"KEYWORDS\")\n",
    "#     print(keywords)\n",
    "    \n",
    "#     ## convertimg string of keywords to dataframe\n",
    "#     df = pd.read_csv(StringIO(keywords),names = ['Keywords_List'])\n",
    "#     df1 = pd.DataFrame(df.Keywords_List.str.split(' ',1).tolist(),columns = ['Subject','Keyword'])\n",
    "#     df2 = pd.DataFrame(df1.Keyword.str.split('(',1).tolist(),columns = ['Keyword', 'Count'])\n",
    "#     df3 = pd.concat([df1['Subject'],df2['Keyword'], df2['Count']], axis =1) \n",
    "#     df3['Count'] = df3['Count'].apply(lambda x: x.rstrip(\")\"))\n",
    "#     print(\"********************DF********************\")\n",
    "#     print(df)\n",
    "    \n",
    "#     base = os.path.basename(file)\n",
    "#     filename = os.path.splitext(base)[0]\n",
    "    \n",
    "       \n",
    "#     name = filename.split('_')\n",
    "#     print(name)\n",
    "#     name2 = name[0]\n",
    "#     name2 = name2.lower()\n",
    "#     ## converting str to dataframe\n",
    "#     name3 = pd.read_csv(StringIO(name2),names = ['Candidate Name'])\n",
    "    \n",
    "#     dataf = pd.concat([name3['Candidate Name'], df3['Subject'], df3['Keyword'], df3['Count']], axis = 1)\n",
    "#     dataf['Candidate Name'].fillna(dataf['Candidate Name'].iloc[0], inplace = True)\n",
    "#     print(\"******************DATAF**************\")\n",
    "#     print(dataf)\n",
    "\n",
    "#     return(dataf)"
   ]
  },
  {
   "cell_type": "code",
   "execution_count": 29,
   "metadata": {},
   "outputs": [],
   "source": [
    "# import pandas as pd\n",
    "# from io import StringIO\n",
    "# from collections import Counter\n",
    "\n",
    "\n",
    "# #Code to execute the above functions \n",
    "# final_db=pd.DataFrame()\n",
    "# i=0\n",
    "# while i < len(onlyfiles):\n",
    "#     file=onlyfiles[i]\n",
    "#     dat=create_profile(file)\n",
    "\n",
    "#     final_db=final_db.append(dat)\n",
    "#     i+=1\n",
    "#     #print(final_db)\n",
    "\n",
    "\n",
    "# def create_profile(file):\n",
    "#     model = Word2Vec.load(\"final.model\")\n",
    "#     text = str(pdfextract(file))\n",
    "#     text = text.replace(\"\\\\n\", \"\").lower()\n",
    "\n",
    "#     stats = [nlp(text[0]) for text in model.wv.most_similar(\"statistics\")]\n",
    "#     NLP = [nlp(text[0]) for text in model.wv.most_similar(\"language\")]\n",
    "#     ML = [nlp(text[0]) for text in model.wv.most_similar(\"machine_learning\")]\n",
    "#     DL = [nlp(text[0]) for text in model.wv.most_similar(\"deep\")]\n",
    "#     python = [nlp(text[0]) for text in model.wv.most_similar(\"python\")]\n",
    "#     Data_Engineering = [nlp(text[0]) for text in model.wv.most_similar(\"data\")]\n",
    "\n",
    "#     matcher = PhraseMatcher(nlp.vocab)\n",
    "#     matcher.add('Stats', None, *stats)\n",
    "#     matcher.add('NLP', None, *NLP)\n",
    "#     matcher.add('ML', None, *ML)\n",
    "#     matcher.add('DL', None, *DL)\n",
    "#     matcher.add('Python', None, *python)\n",
    "#     matcher.add('DE', None, *Data_Engineering)\n",
    "\n",
    "#     doc = nlp(text)\n",
    "#     d = []\n",
    "#     matches = matcher(doc)\n",
    "\n",
    "#     for match_id, start, end in matches:\n",
    "#         rule_id = nlp.vocab.strings[match_id]\n",
    "#         span = doc[start: end]\n",
    "#         d.append((rule_id, span.text))\n",
    "\n",
    "#     # Convert matches to a string\n",
    "#     keywords = \"\\n\".join(f'{i[0]} {i[1]} ({j})' for i, j in Counter(d).items())\n",
    "#     print(\"DEBUG - Keywords:\\n\", keywords)  # Debug output to inspect keywords\n",
    "\n",
    "#     # Convert keywords string to DataFrame\n",
    "#     df = pd.read_csv(StringIO(keywords), names=['Keywords_List'])\n",
    "    \n",
    "#     # Filter to include only string values and ignore empty rows\n",
    "#     df = df[df['Keywords_List'].apply(lambda x: isinstance(x, str) and x.strip() != '')]\n",
    "#     print(\"DEBUG - DataFrame after filtering non-string values:\\n\", df)  # Debug\n",
    "\n",
    "#     # Split Keywords_List column, handling errors gracefully\n",
    "#     try:\n",
    "#         df1 = pd.DataFrame(df['Keywords_List'].str.split(' ', 1).tolist(), columns=['Subject', 'Keyword'])\n",
    "#         df2 = pd.DataFrame(df1['Keyword'].str.split('(', 1).tolist(), columns=['Keyword', 'Count'])\n",
    "#         df3 = pd.concat([df1['Subject'], df2['Keyword'], df2['Count']], axis=1)\n",
    "#     except Exception as e:\n",
    "#         print(\"Error during splitting operation:\", e)\n",
    "#         print(\"DEBUG - Current state of df['Keywords_List']:\\n\", df['Keywords_List'])\n",
    "#         return None  # Return None or a suitable fallback to handle the error\n",
    "\n",
    "#     # Clean up Count column\n",
    "#     df3['Count'] = df3['Count'].apply(lambda x: x.rstrip(\")\") if isinstance(x, str) else x)\n",
    "\n",
    "#     return df3\n"
   ]
  },
  {
   "cell_type": "code",
   "execution_count": 31,
   "metadata": {},
   "outputs": [],
   "source": [
    "# import pandas as pd\n",
    "\n",
    "# # Initialize an empty DataFrame to store the profiles\n",
    "# final_db = pd.DataFrame()\n",
    "\n",
    "# # Loop through all files in the onlyfiles list\n",
    "# i = 0\n",
    "# while i < len(onlyfiles):\n",
    "#     file = onlyfiles[i]\n",
    "    \n",
    "#     # Create profile for the current file\n",
    "#     dat = create_profile(file)\n",
    "    \n",
    "#     # Only concatenate if 'dat' is not None\n",
    "#     if dat is not None:\n",
    "#         final_db = pd.concat([final_db, dat], ignore_index=True)\n",
    "    \n",
    "#     i += 1\n",
    "\n",
    "# # Display the final database\n",
    "# print(final_db)\n"
   ]
  },
  {
   "cell_type": "markdown",
   "metadata": {},
   "source": [
    "**Code to execute the above functions**"
   ]
  },
  {
   "cell_type": "code",
   "execution_count": 32,
   "metadata": {},
   "outputs": [],
   "source": [
    "# #Code to execute the above functions \n",
    "# final_db=pd.DataFrame()\n",
    "# i=0\n",
    "# while i < len(onlyfiles):\n",
    "#     file=onlyfiles[i]\n",
    "#     dat=create_profile(file)\n",
    "\n",
    "#     final_db=final_db.append(dat)\n",
    "#     i+=1\n",
    "#     #print(final_db)"
   ]
  },
  {
   "cell_type": "code",
   "execution_count": 34,
   "metadata": {},
   "outputs": [
    {
     "name": "stderr",
     "output_type": "stream",
     "text": [
      "C:\\Users\\USER\\AppData\\Local\\Programs\\Python\\Python311\\Lib\\site-packages\\spacy\\util.py:910: UserWarning: [W095] Model 'en_core_web_sm' (3.7.1) was trained with spaCy v3.7.2 and may not be 100% compatible with the current version (3.8.2). If you see errors or degraded performance, download a newer compatible model or retrain your custom model with the current spaCy version. For more details and available updates, run: python -m spacy validate\n",
      "  warnings.warn(warn_msg)\n"
     ]
    },
    {
     "name": "stdout",
     "output_type": "stream",
     "text": [
      "             Subject       Keyword  Count      Candidate Name\n",
      "0   machine_learning           may      2         Aman CV.pdf\n",
      "1               data   development      1         Aman CV.pdf\n",
      "2   machine_learning      software      1         Aman CV.pdf\n",
      "3           language      software      1         Aman CV.pdf\n",
      "0   machine_learning           may      3      AmanSharma.pdf\n",
      "1           language       systems      1      AmanSharma.pdf\n",
      "2   machine_learning      software      1      AmanSharma.pdf\n",
      "3           language      software      1      AmanSharma.pdf\n",
      "4         statistics          data      3      AmanSharma.pdf\n",
      "5           language          data      3      AmanSharma.pdf\n",
      "6           language  architecture      1      AmanSharma.pdf\n",
      "7               deep    statistics      1      AmanSharma.pdf\n",
      "0   machine_learning           may      1        Chandler.pdf\n",
      "1         statistics          data      1        Chandler.pdf\n",
      "2           language          data      1        Chandler.pdf\n",
      "3           language       systems      1        Chandler.pdf\n",
      "4         statistics         using      4        Chandler.pdf\n",
      "5               data         using      4        Chandler.pdf\n",
      "6           language         using      4        Chandler.pdf\n",
      "0   machine_learning           may      4    MeghnaLohani.pdf\n",
      "1           language       systems      1    MeghnaLohani.pdf\n",
      "2   machine_learning      software      1    MeghnaLohani.pdf\n",
      "3           language      software      1    MeghnaLohani.pdf\n",
      "4         statistics          data      4    MeghnaLohani.pdf\n",
      "5           language          data      4    MeghnaLohani.pdf\n",
      "6           language  architecture      1    MeghnaLohani.pdf\n",
      "7               deep    statistics      1    MeghnaLohani.pdf\n",
      "8         statistics         using      3    MeghnaLohani.pdf\n",
      "9               data         using      3    MeghnaLohani.pdf\n",
      "10          language         using      3    MeghnaLohani.pdf\n",
      "0   machine_learning           may      1   Phoebe Buffay.pdf\n",
      "1         statistics          data      1   Phoebe Buffay.pdf\n",
      "2           language          data      1   Phoebe Buffay.pdf\n",
      "3           language       systems      1   Phoebe Buffay.pdf\n",
      "4               deep          ruby      1   Phoebe Buffay.pdf\n",
      "5         statistics         using      5   Phoebe Buffay.pdf\n",
      "6               data         using      5   Phoebe Buffay.pdf\n",
      "7           language         using      5   Phoebe Buffay.pdf\n",
      "8         statistics          deep      1   Phoebe Buffay.pdf\n",
      "0   machine_learning           may      1  VAISHALI BIJOY.pdf\n",
      "1         statistics          data      2  VAISHALI BIJOY.pdf\n",
      "2           language          data      2  VAISHALI BIJOY.pdf\n",
      "3               deep    statistics      1  VAISHALI BIJOY.pdf\n",
      "4           language       systems      1  VAISHALI BIJOY.pdf\n",
      "5         statistics         using      4  VAISHALI BIJOY.pdf\n",
      "6               data         using      4  VAISHALI BIJOY.pdf\n",
      "7           language         using      4  VAISHALI BIJOY.pdf\n"
     ]
    }
   ],
   "source": [
    "import os\n",
    "import string\n",
    "import re\n",
    "import collections\n",
    "import pandas as pd\n",
    "from nltk.corpus import stopwords\n",
    "from nltk.tokenize import word_tokenize\n",
    "from gensim.models import Word2Vec\n",
    "from gensim.models.phrases import Phrases, Phraser\n",
    "from io import StringIO\n",
    "import PyPDF2\n",
    "import spacy\n",
    "from spacy.matcher import PhraseMatcher\n",
    "from collections import Counter\n",
    "\n",
    "# Load SpaCy model\n",
    "nlp = spacy.load(\"en_core_web_sm\")\n",
    "\n",
    "# Step 1: Text Preprocessing\n",
    "def preprocess_text(content):\n",
    "    nltk_stopwords = set(stopwords.words('english'))\n",
    "    processed_texts = []\n",
    "\n",
    "    for line in content:\n",
    "        tokens = word_tokenize(line.lower())\n",
    "        words = [word for word in tokens if word.isalpha() and word not in nltk_stopwords]\n",
    "        processed_texts.append(words)\n",
    "\n",
    "    return processed_texts\n",
    "\n",
    "# Step 2: Bigram Model and Word2Vec Training\n",
    "def create_word2vec_model(texts, model_path=\"final.model\"):\n",
    "    phrases = Phrases(texts, min_count=2, threshold=10)\n",
    "    bigram = Phraser(phrases)\n",
    "    bigram_texts = list(bigram[texts])\n",
    "    model = Word2Vec(bigram_texts, vector_size=100, window=4, min_count=2, workers=4)\n",
    "    model.save(model_path)\n",
    "    return model\n",
    "\n",
    "# Step 3: Resume Text Extraction\n",
    "def pdf_to_text(file_path):\n",
    "    with open(file_path, 'rb') as pdf_file:\n",
    "        read_pdf = PyPDF2.PdfReader(pdf_file)\n",
    "        text_content = \"\"\n",
    "        for page in read_pdf.pages:\n",
    "            text_content += page.extract_text()\n",
    "    return text_content.lower()\n",
    "\n",
    "# Step 4: Create Candidate Profile\n",
    "def create_candidate_profile(file_path, model, skills):\n",
    "    text = pdf_to_text(file_path)\n",
    "    text = text.replace(\"\\\\n\", \" \")\n",
    "    \n",
    "    # Get most similar words for each skill\n",
    "    skill_dict = {}\n",
    "    for skill in skills:\n",
    "        similar_words = model.wv.most_similar(skill)\n",
    "        skill_dict[skill] = [nlp(word[0]) for word in similar_words]\n",
    "\n",
    "    # Matcher with SpaCy\n",
    "    matcher = PhraseMatcher(nlp.vocab)\n",
    "    for skill, words in skill_dict.items():\n",
    "        matcher.add(skill, None, *words)\n",
    "\n",
    "    doc = nlp(text)\n",
    "    matches = matcher(doc)\n",
    "\n",
    "    # Process matches\n",
    "    profile_data = []\n",
    "    for match_id, start, end in matches:\n",
    "        rule_id = nlp.vocab.strings[match_id]\n",
    "        span = doc[start:end]\n",
    "        profile_data.append((rule_id, span.text))\n",
    "\n",
    "    # Create DataFrame from matches\n",
    "    df_data = [[i[0], i[1], j] for i, j in Counter(profile_data).items()]\n",
    "    profile_df = pd.DataFrame(df_data, columns=['Subject', 'Keyword', 'Count'])\n",
    "    return profile_df\n",
    "\n",
    "# Step 5: Main Workflow to Process All Resumes in Folder\n",
    "def process_all_resumes(resume_folder, model_path=\"final.model\", skill_list=None):\n",
    "    if skill_list is None:\n",
    "        skill_list = [\"statistics\", \"language\", \"machine_learning\", \"deep\", \"python\", \"data\"]\n",
    "    \n",
    "    model = Word2Vec.load(model_path)\n",
    "    all_resumes_df = pd.DataFrame()\n",
    "\n",
    "    for resume in os.listdir(resume_folder):\n",
    "        file_path = os.path.join(resume_folder, resume)\n",
    "        if os.path.isfile(file_path) and file_path.endswith(\".pdf\"):\n",
    "            profile_df = create_candidate_profile(file_path, model, skill_list)\n",
    "            profile_df['Candidate Name'] = resume.split(\"_\")[0]\n",
    "            all_resumes_df = pd.concat([all_resumes_df, profile_df])\n",
    "\n",
    "    return all_resumes_df\n",
    "\n",
    "# Example usage:\n",
    "# Prepare data and train the Word2Vec model\n",
    "with open(\"skills.txt\", encoding=\"utf8\") as f:\n",
    "    skills_content = f.readlines()\n",
    "skills_content = [x.strip() for x in skills_content]\n",
    "\n",
    "processed_texts = preprocess_text(skills_content)\n",
    "model = create_word2vec_model(processed_texts)\n",
    "\n",
    "# Process resumes and generate profiles\n",
    "resume_folder = r'F:\\CSE499A\\github codes\\resume screening using NLP\\resumes'\n",
    "final_profiles = process_all_resumes(resume_folder)\n",
    "print(final_profiles)\n"
   ]
  },
  {
   "cell_type": "markdown",
   "metadata": {},
   "source": [
    "**Counting words under each category and building the candidate profile**"
   ]
  },
  {
   "cell_type": "code",
   "execution_count": 37,
   "metadata": {},
   "outputs": [
    {
     "name": "stdout",
     "output_type": "stream",
     "text": [
      "Index(['Subject', 'Keyword', 'Count', 'Candidate Name'], dtype='object')\n"
     ]
    }
   ],
   "source": [
    "print(final_profiles.columns)"
   ]
  },
  {
   "cell_type": "code",
   "execution_count": 39,
   "metadata": {},
   "outputs": [
    {
     "data": {
      "text/html": [
       "<div>\n",
       "<style scoped>\n",
       "    .dataframe tbody tr th:only-of-type {\n",
       "        vertical-align: middle;\n",
       "    }\n",
       "\n",
       "    .dataframe tbody tr th {\n",
       "        vertical-align: top;\n",
       "    }\n",
       "\n",
       "    .dataframe thead th {\n",
       "        text-align: right;\n",
       "    }\n",
       "</style>\n",
       "<table border=\"1\" class=\"dataframe\">\n",
       "  <thead>\n",
       "    <tr style=\"text-align: right;\">\n",
       "      <th></th>\n",
       "      <th>Candidate Name</th>\n",
       "      <th>data</th>\n",
       "      <th>deep</th>\n",
       "      <th>language</th>\n",
       "      <th>machine_learning</th>\n",
       "      <th>statistics</th>\n",
       "    </tr>\n",
       "  </thead>\n",
       "  <tbody>\n",
       "    <tr>\n",
       "      <th>0</th>\n",
       "      <td>Aman CV.pdf</td>\n",
       "      <td>1</td>\n",
       "      <td>0</td>\n",
       "      <td>1</td>\n",
       "      <td>2</td>\n",
       "      <td>0</td>\n",
       "    </tr>\n",
       "    <tr>\n",
       "      <th>1</th>\n",
       "      <td>AmanSharma.pdf</td>\n",
       "      <td>0</td>\n",
       "      <td>1</td>\n",
       "      <td>4</td>\n",
       "      <td>2</td>\n",
       "      <td>1</td>\n",
       "    </tr>\n",
       "    <tr>\n",
       "      <th>2</th>\n",
       "      <td>Chandler.pdf</td>\n",
       "      <td>1</td>\n",
       "      <td>0</td>\n",
       "      <td>3</td>\n",
       "      <td>1</td>\n",
       "      <td>2</td>\n",
       "    </tr>\n",
       "    <tr>\n",
       "      <th>3</th>\n",
       "      <td>MeghnaLohani.pdf</td>\n",
       "      <td>1</td>\n",
       "      <td>1</td>\n",
       "      <td>5</td>\n",
       "      <td>2</td>\n",
       "      <td>2</td>\n",
       "    </tr>\n",
       "    <tr>\n",
       "      <th>4</th>\n",
       "      <td>Phoebe Buffay.pdf</td>\n",
       "      <td>1</td>\n",
       "      <td>1</td>\n",
       "      <td>3</td>\n",
       "      <td>1</td>\n",
       "      <td>3</td>\n",
       "    </tr>\n",
       "    <tr>\n",
       "      <th>5</th>\n",
       "      <td>VAISHALI BIJOY.pdf</td>\n",
       "      <td>1</td>\n",
       "      <td>1</td>\n",
       "      <td>3</td>\n",
       "      <td>1</td>\n",
       "      <td>2</td>\n",
       "    </tr>\n",
       "  </tbody>\n",
       "</table>\n",
       "</div>"
      ],
      "text/plain": [
       "       Candidate Name  data  deep  language  machine_learning  statistics\n",
       "0         Aman CV.pdf     1     0         1                 2           0\n",
       "1      AmanSharma.pdf     0     1         4                 2           1\n",
       "2        Chandler.pdf     1     0         3                 1           2\n",
       "3    MeghnaLohani.pdf     1     1         5                 2           2\n",
       "4   Phoebe Buffay.pdf     1     1         3                 1           3\n",
       "5  VAISHALI BIJOY.pdf     1     1         3                 1           2"
      ]
     },
     "execution_count": 39,
     "metadata": {},
     "output_type": "execute_result"
    }
   ],
   "source": [
    "# Code to count words under each category and visualize it through Matplotlib\n",
    "final_db2 = final_profiles.groupby(['Candidate Name', 'Subject'])['Keyword'].count().unstack(fill_value=0)\n",
    "final_db2.reset_index(inplace=True)\n",
    "\n",
    "# Prepare candidate data and export to CSV\n",
    "candidate_data = final_db2.set_index('Candidate Name')\n",
    "candidate_data.to_csv('candidate_profile.csv')\n",
    "\n",
    "# Load the CSV to check the candidate profile\n",
    "cand_profile = pd.read_csv('candidate_profile.csv')\n",
    "cand_profile\n"
   ]
  },
  {
   "cell_type": "code",
   "execution_count": 40,
   "metadata": {},
   "outputs": [],
   "source": [
    "# #Code to count words under each category and visualize it through MAtplotlib\n",
    "# final_db2 = final_db['Keyword'].groupby([final_db['Candidate Name'], final_db['Subject']]).count().unstack()\n",
    "# final_db2.reset_index(inplace = True)\n",
    "# final_db2.fillna(0,inplace=True)\n",
    "# candidate_data = final_db2.iloc[:,1:]\n",
    "# candidate_data.index = final_db2['Candidate Name']\n",
    "# #the candidate profile in a csv format\n",
    "# cand=candidate_data.to_csv('candidate_profile.csv')\n",
    "# cand_profile=pd.read_csv('candidate_profile.csv')\n",
    "# cand_profile"
   ]
  },
  {
   "cell_type": "markdown",
   "metadata": {},
   "source": [
    "**Visualizing by matplotlib**"
   ]
  },
  {
   "cell_type": "code",
   "execution_count": 41,
   "metadata": {},
   "outputs": [
    {
     "data": {
      "image/png": "[encoded data removed]",
      "text/plain": [
       "<Figure size 2500x700 with 1 Axes>"
      ]
     },
     "metadata": {},
     "output_type": "display_data"
    }
   ],
   "source": [
    "import matplotlib.pyplot as plt\n",
    "%matplotlib inline\n",
    "plt.rcParams.update({'font.size': 20})\n",
    "ax = candidate_data.plot.barh(title=\"Keywords in Resume according to category\", legend=False, figsize=(25,7), stacked=True)\n",
    "skills = []\n",
    "for j in candidate_data.columns:\n",
    "    for i in candidate_data.index:\n",
    "        skill = str(j)+\": \" + str(candidate_data.loc[i][j])\n",
    "        skills.append(skill)\n",
    "patches = ax.patches\n",
    "for skill, rect in zip(skills, patches):\n",
    "    width = rect.get_width()\n",
    "    if width > 0:\n",
    "        x = rect.get_x()\n",
    "        y = rect.get_y()\n",
    "        height = rect.get_height()\n",
    "        ax.text(x + width/2., y + height/2., skill, ha='center', va='center')\n",
    "plt.show()"
   ]
  },
  {
   "cell_type": "markdown",
   "metadata": {},
   "source": [
    "# \n",
    "References"
   ]
  },
  {
   "cell_type": "markdown",
   "metadata": {},
   "source": [
    "1. https://machinelearningmastery.com/develop-word-embeddings-python-gensim/\n",
    "2. https://www.shanelynn.ie/word-embeddings-in-python-with-spacy-and-gensim/\n",
    "3. https://app.sketchengine.eu/\n"
   ]
  }
 ],
 "metadata": {
  "kernelspec": {
   "display_name": "Python 3 (ipykernel)",
   "language": "python",
   "name": "python3"
  },
  "language_info": {
   "codemirror_mode": {
    "name": "ipython",
    "version": 3
   },
   "file_extension": ".py",
   "mimetype": "text/x-python",
   "name": "python",
   "nbconvert_exporter": "python",
   "pygments_lexer": "ipython3",
   "version": "3.11.4"
  }
 },
 "nbformat": 4,
 "nbformat_minor": 4
}
