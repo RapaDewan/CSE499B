{
 "cells": [
  {
   "cell_type": "markdown",
   "id": "5f87fb90-8459-4531-8bf5-55c75d7c6b4b",
   "metadata": {},
   "source": [
    "## Read Resumes from Folders"
   ]
  },
  {
   "cell_type": "code",
   "execution_count": 2,
   "id": "4a2932ea-7f5a-426a-b736-a6a25b0290fc",
   "metadata": {},
   "outputs": [],
   "source": [
    "import os"
   ]
  },
  {
   "cell_type": "code",
   "execution_count": 3,
   "id": "e94c45a2-02a4-46d7-a4c5-084af0e5a68b",
   "metadata": {},
   "outputs": [],
   "source": [
    "folder_path = \"Datasets/data\" # Path of the resume"
   ]
  },
  {
   "cell_type": "code",
   "execution_count": 4,
   "id": "aac82106-137c-4f26-bae4-173b986d6c63",
   "metadata": {},
   "outputs": [],
   "source": [
    "# def read_resumes_from_folder(folder_path):\n",
    "#     resumes = []\n",
    "#     for filename in os.listdir(folder_path):\n",
    "#         if filename.endswith(\".pdf\") or filename.endswith(\".docx\"):\n",
    "#             file_path = os.path.join(folder_path, filename)\n",
    "#             print(f\"Processing file: {file_path}\")  # Debugging: Print the file being processed\n",
    "#             text = extract_text_from_file(file_path)  # Use your resume parsing function\n",
    "#             print(f\"Extracted text (first 100 chars): {text[:100]}...\")  # Debugging: Print a snippet of the text\n",
    "#             resumes.append(text)\n",
    "#     print(f\"Total resumes processed: {len(resumes)}\")  # Debugging: Print the total number of resumes\n",
    "#     return resumes"
   ]
  },
  {
   "cell_type": "markdown",
   "id": "b3768c8c-b947-42fa-ba82-cb1d8fe85d6e",
   "metadata": {},
   "source": [
    "### Validate the Number of Files"
   ]
  },
  {
   "cell_type": "code",
   "execution_count": 5,
   "id": "460074ba-21ba-4720-932d-1c02b5405dfd",
   "metadata": {},
   "outputs": [],
   "source": [
    "# def read_resumes_from_folder(folder_path):\n",
    "#     resumes = []\n",
    "#     total_files = 0\n",
    "#     for filename in os.listdir(folder_path):\n",
    "#         if filename.endswith(\".pdf\") or filename.endswith(\".docx\"):\n",
    "#             total_files += 1\n",
    "#             file_path = os.path.join(folder_path, filename)\n",
    "#             print(f\"Processing file: {file_path}\")  # Debugging: Print the file being processed\n",
    "#             text = extract_text_from_file(file_path)  # Use your resume parsing function\n",
    "#             print(f\"Extracted text (first 100 chars): {text[:100]}...\")  # Debugging: Print a snippet of the text\n",
    "#             resumes.append(text)\n",
    "#     print(f\"Total files found: {total_files}\")  # Debugging: Print total PDF/DOCX files\n",
    "#     print(f\"Total resumes processed: {len(resumes)}\")  # Debugging: Print the total number of resumes\n",
    "#     return resumes"
   ]
  },
  {
   "cell_type": "markdown",
   "id": "5a791edd-fad7-46ea-b2ca-6b4c6e5d42c9",
   "metadata": {},
   "source": [
    "### Check for Errors in FIle Reading"
   ]
  },
  {
   "cell_type": "code",
   "execution_count": 6,
   "id": "30db3cfb-d403-4279-808e-de9bb226c0ca",
   "metadata": {},
   "outputs": [],
   "source": [
    "# import os\n",
    "\n",
    "# def read_resumes_from_folder(folder_path):\n",
    "#     resumes = []\n",
    "#     total_files = 0\n",
    "#     for filename in os.listdir(folder_path):\n",
    "#         if filename.endswith(\".pdf\") or filename.endswith(\".docx\"):\n",
    "#             total_files += 1\n",
    "#             file_path = os.path.join(folder_path, filename)\n",
    "#             print(f\"Processing file: {file_path}\")  # Debugging: Print the file being processed\n",
    "#             try:\n",
    "#                 text = extract_text_from_file(file_path)  # Use your resume parsing function\n",
    "#                 print(f\"Extracted text (first 100 chars): {text[:100]}...\")  # Debugging: Print a snippet of the text\n",
    "#                 resumes.append(text)\n",
    "#             except Exception as e:\n",
    "#                 print(f\"Error processing file {file_path}: {e}\")  # Debugging: Print any errors\n",
    "#     print(f\"Total files found: {total_files}\")  # Debugging: Print total PDF/DOCX files\n",
    "#     print(f\"Total resumes processed: {len(resumes)}\")  # Debugging: Print the total number of resumes\n",
    "#     return resumes"
   ]
  },
  {
   "cell_type": "markdown",
   "id": "e5f69ecf-9f20-4b86-bed4-5854a067cf56",
   "metadata": {},
   "source": [
    "### Verify Folder Structure"
   ]
  },
  {
   "cell_type": "code",
   "execution_count": 7,
   "id": "622eaa2d-65a3-4fb6-9d52-2d4890183180",
   "metadata": {},
   "outputs": [],
   "source": [
    "# dataset_path = \"Datasets/data/\"\n",
    "# job_roles = os.listdir(dataset_path)\n",
    "# resumes_by_role = {}\n",
    "\n",
    "# for role in job_roles:\n",
    "#     role_path = os.path.join(dataset_path, role)\n",
    "#     if os.path.isdir(role_path):  # Ensure it's a directory\n",
    "#         print(f\"Processing role: {role}\")  # Debugging: Print the role being processed\n",
    "#         resumes_by_role[role] = read_resumes_from_folder(role_path)"
   ]
  },
  {
   "cell_type": "code",
   "execution_count": 8,
   "id": "42aa1395-8e8e-47df-b20d-53ece271b0d8",
   "metadata": {},
   "outputs": [],
   "source": [
    "# # Test with a single folder\n",
    "# test_folder = \"Datasets/data/data/ACCOUNTANT\"\n",
    "# resumes = read_resumes_from_folder(test_folder)"
   ]
  },
  {
   "cell_type": "markdown",
   "id": "3c95de44-b262-433e-99d1-52a33cdb66ce",
   "metadata": {},
   "source": [
    "##  **Updated Code to Handle Nested Folder Structure**"
   ]
  },
  {
   "cell_type": "code",
   "execution_count": 9,
   "id": "de9cb8d0-491a-4a9c-8541-63eb9b8917b2",
   "metadata": {},
   "outputs": [
    {
     "name": "stdout",
     "output_type": "stream",
     "text": [
      "Total files found: 2484\n",
      "Total resumes processed: 2484\n"
     ]
    }
   ],
   "source": [
    "import os\n",
    "\n",
    "def extract_text_from_file(file_path):\n",
    "    \"\"\"\n",
    "    Extracts text from a PDF or DOCX file.\n",
    "    \"\"\"\n",
    "    if file_path.endswith(\".pdf\"):\n",
    "        from PyPDF2 import PdfReader\n",
    "        reader = PdfReader(file_path)\n",
    "        text = \"\"\n",
    "        for page in reader.pages:\n",
    "            text += page.extract_text()\n",
    "    elif file_path.endswith(\".docx\"):\n",
    "        from docx import Document\n",
    "        doc = Document(file_path)\n",
    "        text = \"\\n\".join([para.text for para in doc.paragraphs])\n",
    "    return text\n",
    "\n",
    "def read_resumes_from_folder(root_folder):\n",
    "    \"\"\"\n",
    "    Recursively reads all PDF and DOCX files from a root folder and its subfolders.\n",
    "    \"\"\"\n",
    "    resumes = []\n",
    "    total_files = 0\n",
    "    for dirpath, _, filenames in os.walk(root_folder):\n",
    "        for filename in filenames:\n",
    "            if filename.endswith(\".pdf\") or filename.endswith(\".docx\"):\n",
    "                total_files += 1\n",
    "                file_path = os.path.join(dirpath, filename)\n",
    "                try:\n",
    "                    text = extract_text_from_file(file_path)\n",
    "                    resumes.append(text)  # Append the extracted text, not 1\n",
    "                except Exception as e:\n",
    "                    print(f\"Error processing file {file_path}: {e}\")\n",
    "    print(f\"Total files found: {total_files}\")\n",
    "    print(f\"Total resumes processed: {len(resumes)}\")\n",
    "    return resumes\n",
    "\n",
    "# Example usage\n",
    "dataset_path = \"Datasets/data/data\"  # Root folder containing all resumes\n",
    "resumes = read_resumes_from_folder(dataset_path)"
   ]
  },
  {
   "cell_type": "markdown",
   "id": "a951b72b-5682-474d-953c-748b4e1e730f",
   "metadata": {},
   "source": [
    "### **Store Resumes by Job Role**"
   ]
  },
  {
   "cell_type": "code",
   "execution_count": 10,
   "id": "4dbbce0c-1e7c-4f04-a9ad-f065d1990d22",
   "metadata": {},
   "outputs": [
    {
     "name": "stdout",
     "output_type": "stream",
     "text": [
      "Total files found: 118\n",
      "Total resumes processed: 118\n",
      "Total files found: 118\n",
      "Total resumes processed: 118\n",
      "Total files found: 63\n",
      "Total resumes processed: 63\n",
      "Total files found: 97\n",
      "Total resumes processed: 97\n",
      "Total files found: 103\n",
      "Total resumes processed: 103\n",
      "Total files found: 36\n",
      "Total resumes processed: 36\n",
      "Total files found: 117\n",
      "Total resumes processed: 117\n",
      "Total files found: 115\n",
      "Total resumes processed: 115\n",
      "Total files found: 22\n",
      "Total resumes processed: 22\n",
      "Total files found: 120\n",
      "Total resumes processed: 120\n",
      "Total files found: 118\n",
      "Total resumes processed: 118\n",
      "Total files found: 112\n",
      "Total resumes processed: 112\n",
      "Total files found: 115\n",
      "Total resumes processed: 115\n",
      "Total files found: 107\n",
      "Total resumes processed: 107\n",
      "Total files found: 96\n",
      "Total resumes processed: 96\n",
      "Total files found: 118\n",
      "Total resumes processed: 118\n",
      "Total files found: 118\n",
      "Total resumes processed: 118\n",
      "Total files found: 117\n",
      "Total resumes processed: 117\n",
      "Total files found: 115\n",
      "Total resumes processed: 115\n",
      "Total files found: 110\n",
      "Total resumes processed: 110\n",
      "Total files found: 120\n",
      "Total resumes processed: 120\n",
      "Total files found: 111\n",
      "Total resumes processed: 111\n",
      "Total files found: 116\n",
      "Total resumes processed: 116\n",
      "Total files found: 102\n",
      "Total resumes processed: 102\n"
     ]
    }
   ],
   "source": [
    "job_roles = os.listdir(dataset_path)\n",
    "resumes_by_role = {}\n",
    "\n",
    "for role in job_roles:\n",
    "    role_path = os.path.join(dataset_path, role)\n",
    "    resumes_by_role[role] = read_resumes_from_folder(role_path)"
   ]
  },
  {
   "cell_type": "markdown",
   "id": "15b2fa93-cb1f-4ad2-afc8-a1ba492852d9",
   "metadata": {},
   "source": [
    "## Load All Resumes"
   ]
  },
  {
   "cell_type": "code",
   "execution_count": 11,
   "id": "89231d31-ee11-4108-95af-4dac9b931029",
   "metadata": {},
   "outputs": [
    {
     "name": "stdout",
     "output_type": "stream",
     "text": [
      "Total resumes loaded: 2484\n"
     ]
    }
   ],
   "source": [
    "# Combine all resumes into a single list\n",
    "all_resumes = []\n",
    "for role, resumes in resumes_by_role.items():\n",
    "    all_resumes.extend(resumes)\n",
    "\n",
    "print(f\"Total resumes loaded: {len(all_resumes)}\")"
   ]
  },
  {
   "cell_type": "markdown",
   "id": "2a9055e2-1e76-4cf7-84f6-185c49b93970",
   "metadata": {},
   "source": [
    "## **2. TF-IDF Implementation**"
   ]
  },
  {
   "cell_type": "markdown",
   "id": "161b36c8-8a92-4cc7-a00b-a6d5a04c39f5",
   "metadata": {},
   "source": [
    "Steps for TF-IDF"
   ]
  },
  {
   "cell_type": "markdown",
   "id": "c87e94f0-f9c3-45b1-9686-6d2fd80a38ef",
   "metadata": {},
   "source": [
    "### 2.1 Preprocess Text\n",
    "Tokenize, remove stopwords, and normalize text (e.g., lowercase)."
   ]
  },
  {
   "cell_type": "code",
   "execution_count": 12,
   "id": "514a8f9a-e89c-4355-9546-dbd6f977964a",
   "metadata": {},
   "outputs": [],
   "source": [
    "# from sklearn.feature_extraction.text import TfidfVectorizer\n",
    "\n",
    "# def preprocess_text(texts):\n",
    "#     vectorizer = TfidfVectorizer(stop_words=\"english\", lowercase=True)\n",
    "#     tfidf_matrix = vectorizer.fit_transform(texts)\n",
    "#     return tfidf_matrix, vectorizer"
   ]
  },
  {
   "cell_type": "markdown",
   "id": "f6438afc-cf01-414a-898c-1127da08992e",
   "metadata": {},
   "source": [
    "### 2.2 Compare Resumes with Job Criteria\n",
    "Use cosine similarity to compare resumes with job descriptions.\n",
    "\n"
   ]
  },
  {
   "cell_type": "code",
   "execution_count": 13,
   "id": "8803ee57-b662-4164-bea4-289a4a30d994",
   "metadata": {},
   "outputs": [],
   "source": [
    "# from sklearn.metrics.pairwise import cosine_similarity\n",
    "\n",
    "# def rank_resumes(job_description, resumes, vectorizer):\n",
    "#     job_tfidf = vectorizer.transform([job_description])\n",
    "#     resume_tfidf = vectorizer.transform(resumes)\n",
    "#     similarities = cosine_similarity(job_tfidf, resume_tfidf)\n",
    "#     ranked_indices = similarities.argsort()[0][::-1]\n",
    "#     return ranked_indices"
   ]
  },
  {
   "cell_type": "markdown",
   "id": "e1ee38b9-4bdf-4f7a-a3d2-6c2b2fd3bbb0",
   "metadata": {},
   "source": [
    "### 2.3 Rank Resumes \n",
    "Use the ranked indices to sort resumes"
   ]
  },
  {
   "cell_type": "code",
   "execution_count": 14,
   "id": "e808dfa5-9f73-4c09-b9ab-0a82f5e3f28b",
   "metadata": {},
   "outputs": [],
   "source": [
    "# def get_ranked_resumes(job_description, resumes):\n",
    "#     tfidf_matrix, vectorizer = preprocess_text(resumes)\n",
    "#     ranked_indices = rank_resumes(job_description, resumes, vectorizer)\n",
    "#     ranked_resumes = [resumes[i] for i in ranked_indices]\n",
    "#     return ranked_resumes"
   ]
  },
  {
   "cell_type": "code",
   "execution_count": 15,
   "id": "6ab820c8-2922-44d6-85d5-ca9af471e7cf",
   "metadata": {},
   "outputs": [
    {
     "data": {
      "text/plain": [
       "9"
      ]
     },
     "execution_count": 15,
     "metadata": {},
     "output_type": "execute_result"
    }
   ],
   "source": [
    "9"
   ]
  },
  {
   "cell_type": "code",
   "execution_count": 16,
   "id": "58fc38a0-3358-48bf-9be9-be97c7abb0c2",
   "metadata": {},
   "outputs": [
    {
     "name": "stdout",
     "output_type": "stream",
     "text": [
      "Hello Amanullah Shah.\n"
     ]
    }
   ],
   "source": [
    "print(\"Hello Amanullah Shah.\")"
   ]
  },
  {
   "cell_type": "code",
   "execution_count": 17,
   "id": "aac6b974-36e3-48ff-a121-7307fbb74c9c",
   "metadata": {},
   "outputs": [],
   "source": [
    "# come back to coding world. "
   ]
  },
  {
   "cell_type": "markdown",
   "id": "33a51bd5-e3b2-4f65-9ca0-668ba25db989",
   "metadata": {},
   "source": [
    "## TF-IDF Code Implementation"
   ]
  },
  {
   "cell_type": "code",
   "execution_count": 18,
   "id": "f401e865-641b-4965-9e8e-57d252173eea",
   "metadata": {},
   "outputs": [],
   "source": [
    "# Import necessary libraries\n",
    "from sklearn.feature_extraction.text import TfidfVectorizer\n",
    "from sklearn.metrics.pairwise import cosine_similarity\n",
    "\n",
    "# Step 1: Define a function to compute TF-IDF and rank resumes\n",
    "def rank_resumes_using_tfidf(job_description, resumes):\n",
    "    \"\"\"\n",
    "    This function takes a job description and a list of resumes,\n",
    "    computes TF-IDF vectors, and ranks the resumes based on cosine similarity.\n",
    "    \n",
    "    Parameters:\n",
    "        job_description (str): The job description text.\n",
    "        resumes (list): A list of resume texts.\n",
    "    \n",
    "    Returns:\n",
    "        ranked_indices (list): Indices of resumes sorted by relevance.\n",
    "        tfidf_matrix: The TF-IDF matrix for resumes.\n",
    "        vectorizer: The TF-IDF vectorizer object.\n",
    "    \"\"\"\n",
    "    \n",
    "    # Step 2: Initialize the TF-IDF Vectorizer\n",
    "    vectorizer = TfidfVectorizer(stop_words=\"english\", lowercase=True)\n",
    "    \n",
    "    # Step 3: Fit and transform the resumes into TF-IDF vectors\n",
    "    tfidf_matrix = vectorizer.fit_transform(resumes)\n",
    "    \n",
    "    # Step 4: Transform the job description into a TF-IDF vector\n",
    "    job_tfidf = vectorizer.transform([job_description])\n",
    "    \n",
    "    # Step 5: Compute cosine similarity between the job description and resumes\n",
    "    similarities = cosine_similarity(job_tfidf, tfidf_matrix)\n",
    "    \n",
    "    # Step 6: Sort resumes by similarity scores (highest to lowest)\n",
    "    ranked_indices = similarities.argsort()[0][::-1]\n",
    "    \n",
    "    return ranked_indices, tfidf_matrix, vectorizer"
   ]
  },
  {
   "cell_type": "markdown",
   "id": "ea7f2d1a-e22b-4c5c-ad8c-3b8cc3366542",
   "metadata": {},
   "source": [
    "### **Define a Job Description**"
   ]
  },
  {
   "cell_type": "code",
   "execution_count": 19,
   "id": "349e5bec-8ab0-442a-afdd-97aa909150d4",
   "metadata": {},
   "outputs": [],
   "source": [
    "# Create a job description that you want to use for ranking the resumes. \n",
    "\n",
    "job_description = \"\"\"\n",
    "We are looking for a software engineer with experience in Python, machine learning, and data analysis.\n",
    "The ideal candidate should have strong problem-solving skills and a background in software development.\n",
    "\"\"\""
   ]
  },
  {
   "cell_type": "markdown",
   "id": "c29b2c68-3aea-4325-80e3-69aa77e8b511",
   "metadata": {},
   "source": [
    "### Use of the \"rank_resumes_using_tfidf function\""
   ]
  },
  {
   "cell_type": "code",
   "execution_count": 20,
   "id": "910f8cf4-2077-409f-b8c5-05029b906410",
   "metadata": {},
   "outputs": [],
   "source": [
    "# Rank resumes using TF-IDF\n",
    "ranked_indices, tfidf_matrix, vectorizer = rank_resumes_using_tfidf(job_description, all_resumes)\n",
    "\n",
    "# Print ranked resumes\n",
    "# for idx in ranked_indices:\n",
    "#     print(f\"Rank {ranked_indices.tolist().index(idx) + 1}: Resume {idx + 1}\")\n",
    "#     print(all_resumes[idx][:500] + \"...\")  # Print the first 500 characters of each resume\n",
    "#     print()"
   ]
  },
  {
   "cell_type": "markdown",
   "id": "ff9f0783-1999-4212-867b-66b67e662e2d",
   "metadata": {},
   "source": [
    "## **Save Ranked Resumes to a File**"
   ]
  },
  {
   "cell_type": "code",
   "execution_count": 21,
   "id": "17f540b6-c7f2-413b-a85c-3deca65b49ce",
   "metadata": {},
   "outputs": [],
   "source": [
    "# Save ranked resumes to a file with UTF-8 encoding\n",
    "with open(\"ranked_resumes.txt\", \"w\", encoding=\"utf-8\") as file:\n",
    "    for idx in ranked_indices:\n",
    "        file.write(f\"Rank {ranked_indices.tolist().index(idx) + 1}: Resume {idx + 1}\\n\")\n",
    "        file.write(all_resumes[idx] + \"\\n\\n\")"
   ]
  },
  {
   "cell_type": "markdown",
   "id": "a697e195-2872-4094-a6fd-0e40f0b4e3f4",
   "metadata": {},
   "source": [
    "## Save Results to a CSV File"
   ]
  },
  {
   "cell_type": "code",
   "execution_count": 22,
   "id": "55adfc18-efd5-4722-854c-de787f2d50af",
   "metadata": {},
   "outputs": [],
   "source": [
    "import pandas as pd\n",
    "\n",
    "# Create a DataFrame to store the ranked resumes\n",
    "ranked_data = []\n",
    "for idx in ranked_indices:\n",
    "    rank = ranked_indices.tolist().index(idx) + 1\n",
    "    resume_text = all_resumes[idx]\n",
    "    ranked_data.append({\n",
    "        \"Rank\": rank,\n",
    "        \"Resume Index\": idx + 1,\n",
    "        \"Resume Text\": resume_text[:500] + \"...\"  # Truncate to 500 characters\n",
    "    })\n",
    "\n",
    "# Convert to DataFrame\n",
    "df = pd.DataFrame(ranked_data)\n",
    "\n",
    "# Save to CSV\n",
    "df.to_csv(\"ranked_resumes.csv\", index=False, encoding=\"utf-8\")"
   ]
  },
  {
   "cell_type": "code",
   "execution_count": 27,
   "id": "08976525-3863-4390-a9b9-9e56ea742148",
   "metadata": {},
   "outputs": [
    {
     "data": {
      "text/html": [
       "<div>\n",
       "<style scoped>\n",
       "    .dataframe tbody tr th:only-of-type {\n",
       "        vertical-align: middle;\n",
       "    }\n",
       "\n",
       "    .dataframe tbody tr th {\n",
       "        vertical-align: top;\n",
       "    }\n",
       "\n",
       "    .dataframe thead th {\n",
       "        text-align: right;\n",
       "    }\n",
       "</style>\n",
       "<table border=\"1\" class=\"dataframe\">\n",
       "  <thead>\n",
       "    <tr style=\"text-align: right;\">\n",
       "      <th></th>\n",
       "      <th>Rank</th>\n",
       "      <th>Resume Index</th>\n",
       "      <th>Resume Text</th>\n",
       "      <th>Feedback</th>\n",
       "    </tr>\n",
       "  </thead>\n",
       "  <tbody>\n",
       "    <tr>\n",
       "      <th>0</th>\n",
       "      <td>1</td>\n",
       "      <td>1460</td>\n",
       "      <td>ENGINEERING OPERATIONS DIRECTOR\\nExecutive Pro...</td>\n",
       "      <td>Missing skills: analysis, data, problem, solvi...</td>\n",
       "    </tr>\n",
       "    <tr>\n",
       "      <th>1</th>\n",
       "      <td>2</td>\n",
       "      <td>2112</td>\n",
       "      <td>INFORMATION TECHNOLOGY SPECIALIST\\nExperience\\...</td>\n",
       "      <td>Missing skills: python, candidate, strong, ide...</td>\n",
       "    </tr>\n",
       "    <tr>\n",
       "      <th>2</th>\n",
       "      <td>3</td>\n",
       "      <td>1465</td>\n",
       "      <td>ENGINEERING AND QUALITY TECHNICIAN\\nCareer Ove...</td>\n",
       "      <td>Missing skills: problem, solving, candidate, e...</td>\n",
       "    </tr>\n",
       "    <tr>\n",
       "      <th>3</th>\n",
       "      <td>4</td>\n",
       "      <td>1935</td>\n",
       "      <td>HR REPRESENTATIVE\\nSummary\\nA motivated busine...</td>\n",
       "      <td>Missing skills: analysis, python, software, en...</td>\n",
       "    </tr>\n",
       "    <tr>\n",
       "      <th>4</th>\n",
       "      <td>5</td>\n",
       "      <td>513</td>\n",
       "      <td>DATA ANALYST\\nProfessional Summary\\nIndustrial...</td>\n",
       "      <td>Missing skills: software, candidate, engineer,...</td>\n",
       "    </tr>\n",
       "  </tbody>\n",
       "</table>\n",
       "</div>"
      ],
      "text/plain": [
       "   Rank  Resume Index                                        Resume Text  \\\n",
       "0     1          1460  ENGINEERING OPERATIONS DIRECTOR\\nExecutive Pro...   \n",
       "1     2          2112  INFORMATION TECHNOLOGY SPECIALIST\\nExperience\\...   \n",
       "2     3          1465  ENGINEERING AND QUALITY TECHNICIAN\\nCareer Ove...   \n",
       "3     4          1935  HR REPRESENTATIVE\\nSummary\\nA motivated busine...   \n",
       "4     5           513  DATA ANALYST\\nProfessional Summary\\nIndustrial...   \n",
       "\n",
       "                                            Feedback  \n",
       "0  Missing skills: analysis, data, problem, solvi...  \n",
       "1  Missing skills: python, candidate, strong, ide...  \n",
       "2  Missing skills: problem, solving, candidate, e...  \n",
       "3  Missing skills: analysis, python, software, en...  \n",
       "4  Missing skills: software, candidate, engineer,...  "
      ]
     },
     "execution_count": 27,
     "metadata": {},
     "output_type": "execute_result"
    }
   ],
   "source": [
    "df.head()"
   ]
  },
  {
   "cell_type": "markdown",
   "id": "63f3b10e-88ab-459d-88fe-6bca951a6065",
   "metadata": {},
   "source": [
    "## Add feedback to the CSV"
   ]
  },
  {
   "cell_type": "code",
   "execution_count": 23,
   "id": "e63d2175-6bb1-4436-9f83-1d01722b2090",
   "metadata": {},
   "outputs": [],
   "source": [
    "import pandas as pd\n",
    "\n",
    "# Function to generate feedback (from earlier code)\n",
    "def generate_feedback(job_description, resume, vectorizer):\n",
    "    job_tfidf = vectorizer.transform([job_description])\n",
    "    resume_tfidf = vectorizer.transform([resume])\n",
    "    feature_names = vectorizer.get_feature_names_out()\n",
    "    job_keywords = set(feature_names[job_tfidf.indices])\n",
    "    resume_keywords = set(feature_names[resume_tfidf.indices])\n",
    "    missing_skills = job_keywords - resume_keywords\n",
    "    feedback = f\"Missing skills: {', '.join(missing_skills)}\" if missing_skills else \"Good match!\"\n",
    "    return feedback\n",
    "\n",
    "# Create a DataFrame with feedback\n",
    "ranked_data = []\n",
    "for idx in ranked_indices:\n",
    "    rank = ranked_indices.tolist().index(idx) + 1\n",
    "    resume_text = all_resumes[idx]\n",
    "    feedback = generate_feedback(job_description, resume_text, vectorizer)\n",
    "    ranked_data.append({\n",
    "        \"Rank\": rank,\n",
    "        \"Resume Index\": idx + 1,\n",
    "        \"Resume Text\": resume_text[:500] + \"...\",\n",
    "        \"Feedback\": feedback\n",
    "    })\n",
    "\n",
    "# Save to CSV\n",
    "df = pd.DataFrame(ranked_data)\n",
    "df.to_csv(\"ranked_resumes_with_feedback.csv\", index=False, encoding=\"utf-8\")"
   ]
  },
  {
   "cell_type": "markdown",
   "id": "b2b1264c-feef-48b3-9b9e-012a675bcea8",
   "metadata": {},
   "source": [
    "### The output:"
   ]
  },
  {
   "cell_type": "code",
   "execution_count": 24,
   "id": "2ed3eaee-c51a-4bdf-af2c-44b32e619d52",
   "metadata": {},
   "outputs": [
    {
     "name": "stdout",
     "output_type": "stream",
     "text": [
      "   Rank  Resume Index                                        Resume Text  \\\n",
      "0     1          1460  ENGINEERING OPERATIONS DIRECTOR\\nExecutive Pro...   \n",
      "1     2          2112  INFORMATION TECHNOLOGY SPECIALIST\\nExperience\\...   \n",
      "2     3          1465  ENGINEERING AND QUALITY TECHNICIAN\\nCareer Ove...   \n",
      "3     4          1935  HR REPRESENTATIVE\\nSummary\\nA motivated busine...   \n",
      "4     5           513  DATA ANALYST\\nProfessional Summary\\nIndustrial...   \n",
      "\n",
      "                                            Feedback  \n",
      "0  Missing skills: analysis, data, problem, solvi...  \n",
      "1  Missing skills: python, candidate, strong, ide...  \n",
      "2  Missing skills: problem, solving, candidate, e...  \n",
      "3  Missing skills: analysis, python, software, en...  \n",
      "4  Missing skills: software, candidate, engineer,...  \n"
     ]
    }
   ],
   "source": [
    "import pandas as pd\n",
    "\n",
    "df = pd.read_csv(\"ranked_resumes_with_feedback.csv\")\n",
    "print(df.head())  # Display the top 5 rows"
   ]
  },
  {
   "cell_type": "code",
   "execution_count": 26,
   "id": "fa02abce-73a2-40c0-bbe3-1d4b108d8c3c",
   "metadata": {},
   "outputs": [
    {
     "data": {
      "text/html": [
       "<div>\n",
       "<style scoped>\n",
       "    .dataframe tbody tr th:only-of-type {\n",
       "        vertical-align: middle;\n",
       "    }\n",
       "\n",
       "    .dataframe tbody tr th {\n",
       "        vertical-align: top;\n",
       "    }\n",
       "\n",
       "    .dataframe thead th {\n",
       "        text-align: right;\n",
       "    }\n",
       "</style>\n",
       "<table border=\"1\" class=\"dataframe\">\n",
       "  <thead>\n",
       "    <tr style=\"text-align: right;\">\n",
       "      <th></th>\n",
       "      <th>Rank</th>\n",
       "      <th>Resume Index</th>\n",
       "      <th>Resume Text</th>\n",
       "      <th>Feedback</th>\n",
       "    </tr>\n",
       "  </thead>\n",
       "  <tbody>\n",
       "    <tr>\n",
       "      <th>0</th>\n",
       "      <td>1</td>\n",
       "      <td>1460</td>\n",
       "      <td>ENGINEERING OPERATIONS DIRECTOR\\nExecutive Pro...</td>\n",
       "      <td>Missing skills: analysis, data, problem, solvi...</td>\n",
       "    </tr>\n",
       "    <tr>\n",
       "      <th>1</th>\n",
       "      <td>2</td>\n",
       "      <td>2112</td>\n",
       "      <td>INFORMATION TECHNOLOGY SPECIALIST\\nExperience\\...</td>\n",
       "      <td>Missing skills: python, candidate, strong, ide...</td>\n",
       "    </tr>\n",
       "    <tr>\n",
       "      <th>2</th>\n",
       "      <td>3</td>\n",
       "      <td>1465</td>\n",
       "      <td>ENGINEERING AND QUALITY TECHNICIAN\\nCareer Ove...</td>\n",
       "      <td>Missing skills: problem, solving, candidate, e...</td>\n",
       "    </tr>\n",
       "    <tr>\n",
       "      <th>3</th>\n",
       "      <td>4</td>\n",
       "      <td>1935</td>\n",
       "      <td>HR REPRESENTATIVE\\nSummary\\nA motivated busine...</td>\n",
       "      <td>Missing skills: analysis, python, software, en...</td>\n",
       "    </tr>\n",
       "    <tr>\n",
       "      <th>4</th>\n",
       "      <td>5</td>\n",
       "      <td>513</td>\n",
       "      <td>DATA ANALYST\\nProfessional Summary\\nIndustrial...</td>\n",
       "      <td>Missing skills: software, candidate, engineer,...</td>\n",
       "    </tr>\n",
       "  </tbody>\n",
       "</table>\n",
       "</div>"
      ],
      "text/plain": [
       "   Rank  Resume Index                                        Resume Text  \\\n",
       "0     1          1460  ENGINEERING OPERATIONS DIRECTOR\\nExecutive Pro...   \n",
       "1     2          2112  INFORMATION TECHNOLOGY SPECIALIST\\nExperience\\...   \n",
       "2     3          1465  ENGINEERING AND QUALITY TECHNICIAN\\nCareer Ove...   \n",
       "3     4          1935  HR REPRESENTATIVE\\nSummary\\nA motivated busine...   \n",
       "4     5           513  DATA ANALYST\\nProfessional Summary\\nIndustrial...   \n",
       "\n",
       "                                            Feedback  \n",
       "0  Missing skills: analysis, data, problem, solvi...  \n",
       "1  Missing skills: python, candidate, strong, ide...  \n",
       "2  Missing skills: problem, solving, candidate, e...  \n",
       "3  Missing skills: analysis, python, software, en...  \n",
       "4  Missing skills: software, candidate, engineer,...  "
      ]
     },
     "execution_count": 26,
     "metadata": {},
     "output_type": "execute_result"
    }
   ],
   "source": [
    "df.head()"
   ]
  },
  {
   "cell_type": "code",
   "execution_count": 28,
   "id": "f5aaff07-3146-4a36-ae68-74632628f011",
   "metadata": {},
   "outputs": [
    {
     "data": {
      "text/plain": [
       "0       ENGINEERING OPERATIONS DIRECTOR\\nExecutive Pro...\n",
       "1       INFORMATION TECHNOLOGY SPECIALIST\\nExperience\\...\n",
       "2       ENGINEERING AND QUALITY TECHNICIAN\\nCareer Ove...\n",
       "3       HR REPRESENTATIVE\\nSummary\\nA motivated busine...\n",
       "4       DATA ANALYST\\nProfessional Summary\\nIndustrial...\n",
       "                              ...                        \n",
       "2479    PH INPATIENT/FINANCIAL ADVOCATE SUPERVISOR\\nEd...\n",
       "2480    INSTRUCTOR/WRITER\\nExperience\\nInstructor/Writ...\n",
       "2481    SUPERVISOR\\nSummary\\nI was a supervisor for tw...\n",
       "2482    EXECUTIVE DIRECTOR\\nProfessional Experience\\nE...\n",
       "2483                                                  ...\n",
       "Name: Resume Text, Length: 2484, dtype: object"
      ]
     },
     "execution_count": 28,
     "metadata": {},
     "output_type": "execute_result"
    }
   ],
   "source": [
    "df['Resume Text']"
   ]
  },
  {
   "cell_type": "code",
   "execution_count": 29,
   "id": "0555793f-e79e-4162-b7ed-307e9484f96a",
   "metadata": {},
   "outputs": [
    {
     "data": {
      "text/plain": [
       "'HR REPRESENTATIVE\\nSummary\\nA motivated business partner who communicates and collaborates effectively with all levels of personnel by relying on outstanding interpersonal\\nand customer service skills, excellent sense of urgency and time management skills and taking pride in delivering high quality work.\\nHighlights\\nprovide a high level of service to both internal and\\nexternal clients and candidates\\npossess excellent communication skills\\nan organizational guru communication skills,\\nhave the ability ...'"
      ]
     },
     "execution_count": 29,
     "metadata": {},
     "output_type": "execute_result"
    }
   ],
   "source": [
    "df.iloc[3,2]"
   ]
  },
  {
   "cell_type": "code",
   "execution_count": null,
   "id": "3da18c9c-8875-47c0-90b6-e1ad4f728642",
   "metadata": {},
   "outputs": [],
   "source": []
  }
 ],
 "metadata": {
  "kernelspec": {
   "display_name": "Python 3 (ipykernel)",
   "language": "python",
   "name": "python3"
  },
  "language_info": {
   "codemirror_mode": {
    "name": "ipython",
    "version": 3
   },
   "file_extension": ".py",
   "mimetype": "text/x-python",
   "name": "python",
   "nbconvert_exporter": "python",
   "pygments_lexer": "ipython3",
   "version": "3.11.4"
  }
 },
 "nbformat": 4,
 "nbformat_minor": 5
}
